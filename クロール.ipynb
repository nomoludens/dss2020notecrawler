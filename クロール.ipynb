{
 "cells": [
  {
   "cell_type": "code",
   "execution_count": 1,
   "metadata": {},
   "outputs": [
    {
     "name": "stdout",
     "output_type": "stream",
     "text": [
      "522\n"
     ]
    }
   ],
   "source": [
    "import os\n",
    "import time\n",
    "from selenium import webdriver\n",
    "import chromedriver_binary\n",
    "from bs4 import BeautifulSoup\n",
    "import requests as req\n",
    "from urllib.parse   import quote\n",
    "from tqdm import tqdm\n",
    "import urllib.request\n",
    "\n",
    "\n",
    "driver = webdriver.Chrome()\n",
    "\n",
    "\n",
    "\n",
    "def scroll(driver):\n",
    "  \n",
    "    html01 = driver.page_source\n",
    "    \n",
    "    for i in range(1,150):\n",
    "        driver.execute_script(\"window.scrollTo(0, document.body.scrollHeight);\")\n",
    "        time.sleep(2)\n",
    "        \n",
    "            \n",
    "#ハッシュタグ検索の結果ページのURLを入力\n",
    "driver.get('https://note.com/hashtag/%E3%82%B9%E3%82%BF%E3%83%BC%E3%82%B7%E3%83%BC%E3%83%89')\n",
    "\n",
    "scroll(driver)\n",
    "\n",
    "ht = driver.page_source\n",
    "so = BeautifulSoup(ht, 'lxml')    \n",
    "\n",
    "#表示されている記事の「もっとみる」部分から記事URLを取得\n",
    "links =[]\n",
    "for link in so.find_all(class_='renewal-p-cardItem__more a-link'):\n",
    "    ur = link.get('href')\n",
    "    links.append(ur)\n",
    "    \n",
    "#スクレイピングの関数\n",
    "def sq(u):\n",
    "    \n",
    "    html = req.get('https://note.com'+u).content\n",
    "    soup = BeautifulSoup(html, 'html.parser')\n",
    "    try:\n",
    "        text = soup.find(class_='o-noteContentText__body').get_text()\n",
    "    except AttributeError:\n",
    "        return 'なし'\n",
    "    return text\n",
    "\n",
    "#実行\n",
    "count = int(0)\n",
    "text_dict = {}\n",
    "\n",
    "for l in links:\n",
    "    text_dict[count] = sq(l)   \n",
    "    count = count + int(1)\n",
    "    \n",
    "print(count)\n"
   ]
  },
  {
   "cell_type": "code",
   "execution_count": 2,
   "metadata": {},
   "outputs": [],
   "source": [
    "f = open('starseed.txt', 'w',encoding='UTF-8')\n",
    "for v in text_dict.values():\n",
    "    f.write(v)\n",
    "f.close()"
   ]
  },
  {
   "cell_type": "code",
   "execution_count": null,
   "metadata": {},
   "outputs": [],
   "source": []
  }
 ],
 "metadata": {
  "kernelspec": {
   "display_name": "Python 3",
   "language": "python",
   "name": "python3"
  },
  "language_info": {
   "codemirror_mode": {
    "name": "ipython",
    "version": 3
   },
   "file_extension": ".py",
   "mimetype": "text/x-python",
   "name": "python",
   "nbconvert_exporter": "python",
   "pygments_lexer": "ipython3",
   "version": "3.7.4"
  }
 },
 "nbformat": 4,
 "nbformat_minor": 2
}
